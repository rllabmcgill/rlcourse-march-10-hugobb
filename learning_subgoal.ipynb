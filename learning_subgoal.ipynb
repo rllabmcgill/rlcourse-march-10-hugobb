{
 "cells": [
  {
   "cell_type": "markdown",
   "metadata": {},
   "source": [
    "# Automatic Discovery of Subgoals Using Diverse Density"
   ]
  },
  {
   "cell_type": "markdown",
   "metadata": {},
   "source": [
    "We have talk in class about options and how to learn a policy over them. However we haven't discussed how to learn such options.\n",
    "\n",
    "An interesting concept is the idea of \"bottleneck\". Let's imagine we want to train a robot to open a door, obviously if the robot doesn't reach the door handle he can't open it. Thus this state is a \"bottleneck\", all the paths have to go through this state in order to reach the goal.\n",
    "\n",
    "The paper [Automatic Discovery of Subgoals in Reinforcement Learning\n",
    "using Diverse Density](https://pdfs.semanticscholar.org/7eca/3acd1a4239d8a299478885c7c0548f3900a8.pdf) tries to formulate mathematicaly this idea of \"bottleneck\".\n",
    "They use the concept of diverse density. The idea is that we have positive trajectories that reach the goal and negative trajectories that don't. We want to find the state $s$ by which most positive trajectories pass through. Diverse density for a state $s$ is defined as follows:\n",
    "$$DD(s) = \\prod_i p(s | T_i^+) \\prod_i p(s | T_i^-)$$\n",
    "where $T_i^+$ is a positive trajectory and $T_i^-$ a negative trajectory and:\n",
    "$$p(s | T_i^+) = 1 - \\prod_j(1 - p(s | s_{i,j}^+)$$\n",
    "$$p(s | T_i^-) = \\prod_j(1 - p(s | s_{i,j}^-)$$\n",
    "where $s_{i,j}^+$ is the $j^{th}$ state belonging to $T_i^+$ and $p(s | s_{i,j}^+) \\sim N(s_{i,j}^+, 1)$. \n",
    "\n",
    "We then find the state c with the maximum DD c, this is our subgoal. The DD is pretty noisy so we average it over several iterations, $c = \\lambda(c+1)$ if c is a persistent maximum it converges to $\\frac{\\lambda}{1-\\lambda}$."
   ]
  },
  {
   "cell_type": "code",
   "execution_count": 11,
   "metadata": {
    "collapsed": false
   },
   "outputs": [
    {
     "name": "stderr",
     "output_type": "stream",
     "text": [
      "100%|██████████| 25/25 [01:01<00:00,  2.54s/it]"
     ]
    },
    {
     "name": "stdout",
     "output_type": "stream",
     "text": [
      " \t \t \t \t \t \t \t \t \t \t \t \t \t\n",
      " \t→\t↓\t↓\t↓\t↓\t \t↓\t↓\t↓\t↓\t↓\t \t\n",
      " \t→\t↓\t↓\t→\t↓\t \t↓\t→\t↓\t↓\t↓\t \t\n",
      " \t→\t→\t→\t→\t→\t→\t→\t↓\t↓\t↓\t↓\t \t\n",
      " \t→\t↑\t→\t→\t↑\t \t→\t→\t→\t↓\t↓\t \t\n",
      " \t↑\t↑\t→\t↑\t↑\t \t→\t→\t→\t→\t←\t \t\n",
      " \t \t \t \t \t \t \t \t \t \t \t \t \t\n",
      "\n"
     ]
    },
    {
     "name": "stderr",
     "output_type": "stream",
     "text": [
      "\n"
     ]
    },
    {
     "data": {
      "image/png": "[encoded data removed]",
      "text/plain": [
       "<matplotlib.figure.Figure at 0x7fde3043ac50>"
      ]
     },
     "metadata": {},
     "output_type": "display_data"
    },
    {
     "data": {
      "image/png": "[encoded data removed]",
      "text/plain": [
       "<matplotlib.figure.Figure at 0x7fde30513910>"
      ]
     },
     "metadata": {},
     "output_type": "display_data"
    }
   ],
   "source": [
    "from lib.env import GridWorld\n",
    "from lib.agent import QLearning, Database\n",
    "from lib import utils\n",
    "import matplotlib.pyplot as plt\n",
    "import numpy as np\n",
    "from tqdm import tqdm\n",
    "\n",
    "max_length = 1000\n",
    "n_episodes = 1000\n",
    "n_trial = 25\n",
    "\n",
    "avg_dd = np.zeros((7,13))\n",
    "subgoal = np.zeros((7,13))\n",
    "for i in tqdm(range(n_trial)):\n",
    "    env = GridWorld(p_failure=0.1)\n",
    "    agent = QLearning(env.state_space, env.action_space, gamma=1., lr=0.05, epsilon=0.9)\n",
    "    db = Database(env.state_space, lamda=0.5, threshold=0.9) #The place where we store our trajectories.\n",
    "    for i_episode in range(n_episodes):\n",
    "        trajectory = []\n",
    "        observation = env.reset()\n",
    "        for t in range(max_length):\n",
    "            trajectory.append(observation)\n",
    "            action = agent.get_action(observation)\n",
    "            new_observation, reward, done, info = env.step(action)\n",
    "            agent.update(observation, action, new_observation, reward)\n",
    "            observation = new_observation\n",
    "            if done:\n",
    "                #print(\"Episode finished after {} timesteps\".format(t+1))\n",
    "                break\n",
    "                \n",
    "        agent.epsilon = max(0.1, agent.epsilon - 0.001)\n",
    "        peak = db.update(trajectory, done)\n",
    "\n",
    "    avg_dd += db.log_dd\n",
    "    x = db.log_dd.argmax(axis=0)\n",
    "    y = db.log_dd.max(axis=0).argmax()\n",
    "    x = x[y]\n",
    "    subgoal[x,y] +=1\n",
    "\n",
    "min = avg_dd.min()\n",
    "avg_dd += avg_dd.min()*env.border\n",
    "avg_dd = avg_dd.clip(min,0)\n",
    "\n",
    "utils.plot_policy(agent.q, env.border)\n",
    "\n",
    "plt.figure()\n",
    "plt.title('The Average Diverse Density')\n",
    "plt.imshow(avg_dd/n_trial, cmap='gray', interpolation=None)\n",
    "plt.show()\n",
    "\n",
    "plt.figure()\n",
    "plt.title('The Subgoal Discovered')\n",
    "plt.imshow(subgoal, cmap='gray', interpolation=None)\n",
    "plt.show()"
   ]
  },
  {
   "cell_type": "code",
   "execution_count": null,
   "metadata": {
    "collapsed": true
   },
   "outputs": [],
   "source": []
  }
 ],
 "metadata": {
  "kernelspec": {
   "display_name": "Python 2",
   "language": "python",
   "name": "python2"
  },
  "language_info": {
   "codemirror_mode": {
    "name": "ipython",
    "version": 2
   },
   "file_extension": ".py",
   "mimetype": "text/x-python",
   "name": "python",
   "nbconvert_exporter": "python",
   "pygments_lexer": "ipython2",
   "version": "2.7.12"
  }
 },
 "nbformat": 4,
 "nbformat_minor": 1
}
